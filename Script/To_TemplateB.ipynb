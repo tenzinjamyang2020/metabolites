{
 "cells": [
  {
   "cell_type": "code",
   "execution_count": null,
   "metadata": {},
   "outputs": [],
   "source": [
    "import os as os\n",
    "import pandas as pd\n",
    "import xml.etree.ElementTree as ET\n",
    "# import numpy as np\n",
    "\n",
    "\n",
    "#creation, update, version,completion status and ethnicity tag will be the same as template\n",
    "#creation_date\n",
    "# update_date\n",
    "# version\n",
    "# name\n",
    "# accession\n",
    "# completion_status\n",
    "# ranges\n",
    "#     range\n",
    "#         sex\n",
    "#         age\n",
    "#             min\n",
    "#             max\n",
    "#         ethnicity\n",
    "#         unit\n",
    "#         min_range\n",
    "#         max_range\n",
    "#         disease\n",
    "#             name\n",
    "#             references\n",
    "#                 reference\n",
    "#                 pubmed_id\n",
    "\n",
    "\n",
    "for i in range(10) :\n",
    "    \n",
    "    file_name = \"XML-TemplateA/hmdb_metabolites-{}.xml\".format(i)\n",
    "    tree = ET.parse(file_name)\n",
    "    root=tree.getroot()\n",
    "    file=file_name[14:-4]\n",
    "#     print(file)\n",
    "#     print(root)\n",
    "    \n",
    "    for element in root.findall(\"name\"):\n",
    "        print(element.text)\n",
    "        \n",
    "#add into array\n",
    "\n",
    "# convert into pandas df\n",
    "\n",
    "\n",
    "# group by name , aggregate\n",
    "\n",
    "\n",
    "# getmin and get max\n",
    "\n",
    "\n",
    "\n",
    "# min range  max range ? ?\n",
    "    "
   ]
  }
 ],
 "metadata": {
  "kernelspec": {
   "display_name": "Python 3",
   "language": "python",
   "name": "python3"
  },
  "language_info": {
   "codemirror_mode": {
    "name": "ipython",
    "version": 3
   },
   "file_extension": ".py",
   "mimetype": "text/x-python",
   "name": "python",
   "nbconvert_exporter": "python",
   "pygments_lexer": "ipython3",
   "version": "3.8.6"
  }
 },
 "nbformat": 4,
 "nbformat_minor": 4
}
